{
 "cells": [
  {
   "cell_type": "code",
   "execution_count": null,
   "metadata": {},
   "outputs": [],
   "source": [
    "#!/usr/bin/env python\n",
    "# -*- coding: utf-8 -*-\n",
    "r\"\"\"\n",
    "@DATE: 2024-11-15 15:56:08\n",
    "@File: test/segmentation.ipynb\n",
    "@IDE: vscode\n",
    "@Description:\n",
    "    This is a test file for segmentation.\n",
    "\"\"\""
   ]
  },
  {
   "cell_type": "code",
   "execution_count": 1,
   "metadata": {},
   "outputs": [],
   "source": [
    "import sys\n",
    "import os\n",
    "current_dir = %pwd\n",
    "relative_path = os.path.join(current_dir, '..')\n",
    "sys.path.append(relative_path)"
   ]
  },
  {
   "cell_type": "code",
   "execution_count": null,
   "metadata": {},
   "outputs": [],
   "source": [
    "from SegCloth import segment_clothing,batch_segment_clothing\n",
    "from PIL import Image\n",
    "image = Image.open('image.jpg')\n",
    "\n",
    "result = segment_clothing(img=image, clothes= [\"Upper-clothes\", \"Skirt\", \"Pants\", \"Dress\", \"Belt\"])\n",
    "result.show()\n",
    "result.save('segmented.png')"
   ]
  },
  {
   "cell_type": "code",
   "execution_count": 3,
   "metadata": {},
   "outputs": [
    {
     "name": "stdout",
     "output_type": "stream",
     "text": [
      "Segmented FO6C0796_副本.jpg successfully.\n",
      "Segmented FO6C0227_副本.jpg successfully.\n",
      "Segmented 1723547967063-image.png successfully.\n",
      "Segmented 361A6315_副本.jpg successfully.\n",
      "Segmented 1717493935609-image.png successfully.\n",
      "Segmented 2024-5-201145 1 拷贝3_副本.jpg successfully.\n",
      "Segmented 1717661966836-image.png successfully.\n",
      "Segmented kpp27621_副本.jpg successfully.\n",
      "Segmented 1716361292216-image.png successfully.\n",
      "Segmented CUPSHE + AGOSTO 0637.jpeg successfully.\n",
      "Segmented 1718344404240-IMG_20240613_140418(1).jpg successfully.\n",
      "Segmented image.jpg successfully.\n"
     ]
    }
   ],
   "source": [
    "from SegCloth import batch_segment_clothing\n",
    "batch_segment_clothing(img_dir=\"../test_img/raw_img\", out_dir=\"../test_img/seg_img\", clothes= [ \"Upper-clothes\", \"Skirt\",  \"Dress\", ])"
   ]
  }
 ],
 "metadata": {
  "kernelspec": {
   "display_name": "cupshe",
   "language": "python",
   "name": "python3"
  },
  "language_info": {
   "codemirror_mode": {
    "name": "ipython",
    "version": 3
   },
   "file_extension": ".py",
   "mimetype": "text/x-python",
   "name": "python",
   "nbconvert_exporter": "python",
   "pygments_lexer": "ipython3",
   "version": "3.12.7"
  }
 },
 "nbformat": 4,
 "nbformat_minor": 2
}
