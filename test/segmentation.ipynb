{
 "cells": [
  {
   "cell_type": "code",
   "execution_count": null,
   "metadata": {},
   "outputs": [],
   "source": [
    "#!/usr/bin/env python\n",
    "# -*- coding: utf-8 -*-\n",
    "r\"\"\"\n",
    "@DATE: 2024-11-15 15:56:08\n",
    "@File: test/segmentation.ipynb\n",
    "@IDE: vscode\n",
    "@Description:\n",
    "    This is a test file for segmentation.\n",
    "\"\"\""
   ]
  },
  {
   "cell_type": "code",
   "execution_count": 1,
   "metadata": {},
   "outputs": [],
   "source": [
    "import sys\n",
    "import os\n",
    "current_dir = %pwd\n",
    "relative_path = os.path.join(current_dir, '..')\n",
    "sys.path.append(relative_path)"
   ]
  },
  {
   "cell_type": "code",
   "execution_count": null,
   "metadata": {},
   "outputs": [],
   "source": [
    "from SegCloth import segment_clothing,batch_segment_clothing\n",
    "from PIL import Image\n",
    "image = Image.open('image.jpg')\n",
    "\n",
    "result = segment_clothing(img=image, clothes= [\"Upper-clothes\", \"Skirt\", \"Pants\", \"Dress\", \"Belt\"])\n",
    "result.show()\n",
    "result.save('segmented.png')"
   ]
  },
  {
   "cell_type": "code",
   "execution_count": 2,
   "metadata": {},
   "outputs": [
    {
     "name": "stderr",
     "output_type": "stream",
     "text": [
      "/opt/homebrew/anaconda3/envs/cupshe/lib/python3.12/site-packages/tqdm/auto.py:21: TqdmWarning: IProgress not found. Please update jupyter and ipywidgets. See https://ipywidgets.readthedocs.io/en/stable/user_install.html\n",
      "  from .autonotebook import tqdm as notebook_tqdm\n",
      "/opt/homebrew/anaconda3/envs/cupshe/lib/python3.12/site-packages/huggingface_hub/file_download.py:797: FutureWarning: `resume_download` is deprecated and will be removed in version 1.0.0. Downloads always resume when possible. If you want to force a new download, use `force_download=True`.\n",
      "  warnings.warn(\n",
      "Could not find image processor class in the image processor config or the model config. Loading based on pattern matching with the model's feature extractor configuration. Please open a PR/issue to update `preprocessor_config.json` to use `image_processor_type` instead of `feature_extractor_type`. This warning will be removed in v4.40.\n",
      "/opt/homebrew/anaconda3/envs/cupshe/lib/python3.12/site-packages/transformers/models/segformer/image_processing_segformer.py:101: FutureWarning: The `reduce_labels` parameter is deprecated and will be removed in a future version. Please use `do_reduce_labels` instead.\n",
      "  warnings.warn(\n"
     ]
    },
    {
     "name": "stdout",
     "output_type": "stream",
     "text": [
      "Segmented FO6C0796_副本.jpg successfully.\n",
      "Segmented FO6C0227_副本.jpg successfully.\n",
      "Segmented 1723547967063-image.png successfully.\n",
      "Segmented 361A6315_副本.jpg successfully.\n",
      "Skipping segmentation.ipynb as it is not a supported image file.\n",
      "Segmented 1717493935609-image.png successfully.\n",
      "Skipping output as it is not a supported image file.\n",
      "Segmented 2024-5-201145 1 拷贝3_副本.jpg successfully.\n",
      "Segmented 1717661966836-image.png successfully.\n",
      "Segmented kpp27621_副本.jpg successfully.\n",
      "Segmented 1716361292216-image.png successfully.\n",
      "Segmented CUPSHE + AGOSTO 0637.jpeg successfully.\n",
      "Segmented 1718344404240-IMG_20240613_140418(1).jpg successfully.\n",
      "Segmented image.jpg successfully.\n"
     ]
    }
   ],
   "source": [
    "from SegCloth import batch_segment_clothing\n",
    "batch_segment_clothing(img_dir=\"./\", out_dir=\"output\", clothes= [ \"Upper-clothes\", \"Skirt\",  \"Dress\", ])"
   ]
  }
 ],
 "metadata": {
  "kernelspec": {
   "display_name": "cupshe",
   "language": "python",
   "name": "python3"
  },
  "language_info": {
   "codemirror_mode": {
    "name": "ipython",
    "version": 3
   },
   "file_extension": ".py",
   "mimetype": "text/x-python",
   "name": "python",
   "nbconvert_exporter": "python",
   "pygments_lexer": "ipython3",
   "version": "3.12.7"
  }
 },
 "nbformat": 4,
 "nbformat_minor": 2
}
